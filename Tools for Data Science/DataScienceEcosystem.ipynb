{
 "cells": [
  {
   "cell_type": "markdown",
   "id": "b015ee8f-6eff-4eec-97db-09d3b763a8dd",
   "metadata": {
    "tags": []
   },
   "source": [
    "# DataScience tools and Ecosystem"
   ]
  },
  {
   "cell_type": "markdown",
   "id": "ca34838a-faf5-43b2-b139-2048e585a5da",
   "metadata": {},
   "source": [
    "In this notebook, Data Science Tools and Ecosystem are summarized."
   ]
  },
  {
   "cell_type": "markdown",
   "id": "095f996c-ddc2-413c-a5b7-a5db2082c445",
   "metadata": {
    "tags": []
   },
   "source": [
    "Some of the popular languages that Data Scientists use are:\n",
    "1. python\n",
    "2. R\n",
    "3. SQL\n",
    "4. JAVA"
   ]
  },
  {
   "cell_type": "markdown",
   "id": "7806a252-19c3-4fd9-8cb7-4294e77a26a1",
   "metadata": {
    "tags": []
   },
   "source": [
    "Some of the commonly used libraries used by Data Scientists include:\n",
    "1. Numpy\n",
    "2. pandas\n",
    "3. tensorflow\n",
    "4. Matplotlib\n",
    "5. keras\n"
   ]
  },
  {
   "cell_type": "markdown",
   "id": "d2fcae38-38db-4a45-a784-63ad733840db",
   "metadata": {
    "tags": []
   },
   "source": [
    "|Data Science Tools |\n",
    "|---| \n",
    "| SAS | \n",
    "|Apache Hadoop|\n",
    "|TensorFlow|"
   ]
  },
  {
   "cell_type": "markdown",
   "id": "61c69b81-67d6-437c-944d-33e529f3487f",
   "metadata": {},
   "source": [
    "# Below are a few examples of evaluating arithmetic expressions in Python"
   ]
  },
  {
   "cell_type": "code",
   "execution_count": 6,
   "id": "70f1376b-6026-446a-bcda-4914e38de6b3",
   "metadata": {
    "tags": []
   },
   "outputs": [
    {
     "data": {
      "text/plain": [
       "17"
      ]
     },
     "execution_count": 6,
     "metadata": {},
     "output_type": "execute_result"
    }
   ],
   "source": [
    "#this is a common arithmetic example to multiply and then add integers\n",
    "(3*4)+5 \n"
   ]
  },
  {
   "cell_type": "code",
   "execution_count": 7,
   "id": "3d5f4ac2-03af-4d8a-bc79-3bcc6fe0a612",
   "metadata": {
    "tags": []
   },
   "outputs": [
    {
     "data": {
      "text/plain": [
       "3.3333333333333335"
      ]
     },
     "execution_count": 7,
     "metadata": {},
     "output_type": "execute_result"
    }
   ],
   "source": [
    "#This will convert 200 minutes to hours by diving by 60 \n",
    "200/60"
   ]
  },
  {
   "cell_type": "markdown",
   "id": "1581db7c-ec62-41ba-8917-0058f1768bfc",
   "metadata": {},
   "source": [
    "__objective__ \n",
    "* List popular languages for Data Science \n",
    "* List popular libraries for Data Science \n",
    "* List of Well known Data Science Tools \n",
    "* How to Provide comments in the cell"
   ]
  },
  {
   "cell_type": "markdown",
   "id": "4a23332d-9eaa-4c50-ba38-b4a0ea362d7d",
   "metadata": {
    "tags": []
   },
   "source": [
    "## Author \n",
    "krupa joshi"
   ]
  },
  {
   "cell_type": "code",
   "execution_count": null,
   "id": "70abc37f-0382-48c7-9f32-1a56dde09704",
   "metadata": {},
   "outputs": [],
   "source": []
  }
 ],
 "metadata": {
  "kernelspec": {
   "display_name": "Python 3 (ipykernel)",
   "language": "python",
   "name": "python3"
  },
  "language_info": {
   "codemirror_mode": {
    "name": "ipython",
    "version": 3
   },
   "file_extension": ".py",
   "mimetype": "text/x-python",
   "name": "python",
   "nbconvert_exporter": "python",
   "pygments_lexer": "ipython3",
   "version": "3.11.5"
  }
 },
 "nbformat": 4,
 "nbformat_minor": 5
}
